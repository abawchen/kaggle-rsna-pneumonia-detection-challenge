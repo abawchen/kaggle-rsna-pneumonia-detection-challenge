{
 "cells": [
  {
   "cell_type": "code",
   "execution_count": 1,
   "metadata": {},
   "outputs": [],
   "source": [
    "# https://goo.gl/6TWchp\n",
    "import os\n",
    "import sys\n",
    "import random\n",
    "import math\n",
    "import numpy as np\n",
    "import cv2\n",
    "import matplotlib.pyplot as plt\n",
    "import json\n",
    "import pydicom\n",
    "from imgaug import augmenters as iaa\n",
    "\n",
    "import skimage.io\n",
    "import skimage.measure\n",
    "from tqdm import tqdm\n",
    "from PIL import Image\n",
    "\n",
    "import requests\n",
    "import shutil\n",
    "import zipfile"
   ]
  },
  {
   "cell_type": "code",
   "execution_count": 2,
   "metadata": {},
   "outputs": [
    {
     "data": {
      "text/plain": [
       "'0.0.5'"
      ]
     },
     "execution_count": 2,
     "metadata": {},
     "output_type": "execute_result"
    }
   ],
   "source": [
    "import mdai\n",
    "mdai.__version__"
   ]
  },
  {
   "cell_type": "code",
   "execution_count": 3,
   "metadata": {},
   "outputs": [
    {
     "name": "stdout",
     "output_type": "stream",
     "text": [
      "Successfully authenticated to public.md.ai.\n"
     ]
    }
   ],
   "source": [
    "mdai_client = mdai.Client(domain='public.md.ai', access_token=os.environ['MDAI_TOKEN'])"
   ]
  },
  {
   "cell_type": "code",
   "execution_count": 8,
   "metadata": {},
   "outputs": [
    {
     "data": {
      "text/plain": [
       "{'domain': 'public.md.ai',\n",
       " 'access_token': 'cab187e530482790d5ac6f9769aa260d',\n",
       " 'session': <requests.sessions.Session at 0x11f9fbda0>}"
      ]
     },
     "execution_count": 8,
     "metadata": {},
     "output_type": "execute_result"
    }
   ],
   "source": [
    "mdai_client."
   ]
  },
  {
   "cell_type": "code",
   "execution_count": null,
   "metadata": {},
   "outputs": [
    {
     "name": "stdout",
     "output_type": "stream",
     "text": [
      "Using path '../data/raw/lesson2-data' for data.\n",
      "Preparing annotations export for project aGq4k6NW...                                                \n",
      "Preparing images export for project aGq4k6NW...                                                     \n",
      "Downloading file: mdai_public_project_aGq4k6NW_annotations_labelgroup_all_2018-08-22-034302.json\n"
     ]
    },
    {
     "name": "stderr",
     "output_type": "stream",
     "text": [
      "3.75MB [00:01, 3.12MB/s]                            \n"
     ]
    },
    {
     "name": "stdout",
     "output_type": "stream",
     "text": [
      "Success: annotations data for project aGq4k6NW ready.\n"
     ]
    },
    {
     "name": "stderr",
     "output_type": "stream",
     "text": [
      "Exception in thread Thread-15041:\n",
      "Traceback (most recent call last):\n",
      "  File \"/Users/ylchen/.virtualenvs/kaggle-rsna/lib/python3.6/site-packages/urllib3/connectionpool.py\", line 601, in urlopen\n",
      "    chunked=chunked)\n",
      "  File \"/Users/ylchen/.virtualenvs/kaggle-rsna/lib/python3.6/site-packages/urllib3/connectionpool.py\", line 387, in _make_request\n",
      "    six.raise_from(e, None)\n",
      "  File \"<string>\", line 2, in raise_from\n",
      "  File \"/Users/ylchen/.virtualenvs/kaggle-rsna/lib/python3.6/site-packages/urllib3/connectionpool.py\", line 383, in _make_request\n",
      "    httplib_response = conn.getresponse()\n",
      "  File \"/Users/ylchen/.pyenv/versions/3.6.4/lib/python3.6/http/client.py\", line 1331, in getresponse\n",
      "    response.begin()\n",
      "  File \"/Users/ylchen/.pyenv/versions/3.6.4/lib/python3.6/http/client.py\", line 297, in begin\n",
      "    version, status, reason = self._read_status()\n",
      "  File \"/Users/ylchen/.pyenv/versions/3.6.4/lib/python3.6/http/client.py\", line 258, in _read_status\n",
      "    line = str(self.fp.readline(_MAXLINE + 1), \"iso-8859-1\")\n",
      "  File \"/Users/ylchen/.pyenv/versions/3.6.4/lib/python3.6/socket.py\", line 586, in readinto\n",
      "    return self._sock.recv_into(b)\n",
      "  File \"/Users/ylchen/.pyenv/versions/3.6.4/lib/python3.6/ssl.py\", line 1009, in recv_into\n",
      "    return self.read(nbytes, buffer)\n",
      "  File \"/Users/ylchen/.pyenv/versions/3.6.4/lib/python3.6/ssl.py\", line 871, in read\n",
      "    return self._sslobj.read(len, buffer)\n",
      "  File \"/Users/ylchen/.pyenv/versions/3.6.4/lib/python3.6/ssl.py\", line 631, in read\n",
      "    v = self._sslobj.read(len, buffer)\n",
      "OSError: [Errno 50] Network is down\n",
      "\n",
      "During handling of the above exception, another exception occurred:\n",
      "\n",
      "Traceback (most recent call last):\n",
      "  File \"/Users/ylchen/.virtualenvs/kaggle-rsna/lib/python3.6/site-packages/requests/adapters.py\", line 445, in send\n",
      "    timeout=timeout\n",
      "  File \"/Users/ylchen/.virtualenvs/kaggle-rsna/lib/python3.6/site-packages/urllib3/connectionpool.py\", line 639, in urlopen\n",
      "    _stacktrace=sys.exc_info()[2])\n",
      "  File \"/Users/ylchen/.virtualenvs/kaggle-rsna/lib/python3.6/site-packages/urllib3/util/retry.py\", line 357, in increment\n",
      "    raise six.reraise(type(error), error, _stacktrace)\n",
      "  File \"/Users/ylchen/.virtualenvs/kaggle-rsna/lib/python3.6/site-packages/urllib3/packages/six.py\", line 685, in reraise\n",
      "    raise value.with_traceback(tb)\n",
      "  File \"/Users/ylchen/.virtualenvs/kaggle-rsna/lib/python3.6/site-packages/urllib3/connectionpool.py\", line 601, in urlopen\n",
      "    chunked=chunked)\n",
      "  File \"/Users/ylchen/.virtualenvs/kaggle-rsna/lib/python3.6/site-packages/urllib3/connectionpool.py\", line 387, in _make_request\n",
      "    six.raise_from(e, None)\n",
      "  File \"<string>\", line 2, in raise_from\n",
      "  File \"/Users/ylchen/.virtualenvs/kaggle-rsna/lib/python3.6/site-packages/urllib3/connectionpool.py\", line 383, in _make_request\n",
      "    httplib_response = conn.getresponse()\n",
      "  File \"/Users/ylchen/.pyenv/versions/3.6.4/lib/python3.6/http/client.py\", line 1331, in getresponse\n",
      "    response.begin()\n",
      "  File \"/Users/ylchen/.pyenv/versions/3.6.4/lib/python3.6/http/client.py\", line 297, in begin\n",
      "    version, status, reason = self._read_status()\n",
      "  File \"/Users/ylchen/.pyenv/versions/3.6.4/lib/python3.6/http/client.py\", line 258, in _read_status\n",
      "    line = str(self.fp.readline(_MAXLINE + 1), \"iso-8859-1\")\n",
      "  File \"/Users/ylchen/.pyenv/versions/3.6.4/lib/python3.6/socket.py\", line 586, in readinto\n",
      "    return self._sock.recv_into(b)\n",
      "  File \"/Users/ylchen/.pyenv/versions/3.6.4/lib/python3.6/ssl.py\", line 1009, in recv_into\n",
      "    return self.read(nbytes, buffer)\n",
      "  File \"/Users/ylchen/.pyenv/versions/3.6.4/lib/python3.6/ssl.py\", line 871, in read\n",
      "    return self._sslobj.read(len, buffer)\n",
      "  File \"/Users/ylchen/.pyenv/versions/3.6.4/lib/python3.6/ssl.py\", line 631, in read\n",
      "    v = self._sslobj.read(len, buffer)\n",
      "urllib3.exceptions.ProtocolError: ('Connection aborted.', OSError(50, 'Network is down'))\n",
      "\n",
      "During handling of the above exception, another exception occurred:\n",
      "\n",
      "Traceback (most recent call last):\n",
      "  File \"/Users/ylchen/.pyenv/versions/3.6.4/lib/python3.6/threading.py\", line 916, in _bootstrap_inner\n",
      "    self.run()\n",
      "  File \"/Users/ylchen/.pyenv/versions/3.6.4/lib/python3.6/threading.py\", line 1182, in run\n",
      "    self.function(*self.args, **self.kwargs)\n",
      "  File \"/Users/ylchen/.virtualenvs/kaggle-rsna/lib/python3.6/site-packages/mdai/client.py\", line 196, in _check_data_export_job_progress\n",
      "    r = self.session.post(endpoint, json=params, headers=self.headers)\n",
      "  File \"/Users/ylchen/.virtualenvs/kaggle-rsna/lib/python3.6/site-packages/requests/sessions.py\", line 559, in post\n",
      "    return self.request('POST', url, data=data, json=json, **kwargs)\n",
      "  File \"/Users/ylchen/.virtualenvs/kaggle-rsna/lib/python3.6/site-packages/requests/sessions.py\", line 512, in request\n",
      "    resp = self.send(prep, **send_kwargs)\n",
      "  File \"/Users/ylchen/.virtualenvs/kaggle-rsna/lib/python3.6/site-packages/requests/sessions.py\", line 622, in send\n",
      "    r = adapter.send(request, **kwargs)\n",
      "  File \"/Users/ylchen/.virtualenvs/kaggle-rsna/lib/python3.6/site-packages/requests/adapters.py\", line 495, in send\n",
      "    raise ConnectionError(err, request=request)\n",
      "requests.exceptions.ConnectionError: ('Connection aborted.', OSError(50, 'Network is down'))\n",
      "\n",
      "Exception in thread Thread-15042:\n",
      "Traceback (most recent call last):\n",
      "  File \"/Users/ylchen/.virtualenvs/kaggle-rsna/lib/python3.6/site-packages/urllib3/connectionpool.py\", line 601, in urlopen\n",
      "    chunked=chunked)\n",
      "  File \"/Users/ylchen/.virtualenvs/kaggle-rsna/lib/python3.6/site-packages/urllib3/connectionpool.py\", line 387, in _make_request\n",
      "    six.raise_from(e, None)\n",
      "  File \"<string>\", line 2, in raise_from\n",
      "  File \"/Users/ylchen/.virtualenvs/kaggle-rsna/lib/python3.6/site-packages/urllib3/connectionpool.py\", line 383, in _make_request\n",
      "    httplib_response = conn.getresponse()\n",
      "  File \"/Users/ylchen/.pyenv/versions/3.6.4/lib/python3.6/http/client.py\", line 1331, in getresponse\n",
      "    response.begin()\n",
      "  File \"/Users/ylchen/.pyenv/versions/3.6.4/lib/python3.6/http/client.py\", line 297, in begin\n",
      "    version, status, reason = self._read_status()\n",
      "  File \"/Users/ylchen/.pyenv/versions/3.6.4/lib/python3.6/http/client.py\", line 258, in _read_status\n",
      "    line = str(self.fp.readline(_MAXLINE + 1), \"iso-8859-1\")\n",
      "  File \"/Users/ylchen/.pyenv/versions/3.6.4/lib/python3.6/socket.py\", line 586, in readinto\n",
      "    return self._sock.recv_into(b)\n",
      "  File \"/Users/ylchen/.pyenv/versions/3.6.4/lib/python3.6/ssl.py\", line 1009, in recv_into\n",
      "    return self.read(nbytes, buffer)\n",
      "  File \"/Users/ylchen/.pyenv/versions/3.6.4/lib/python3.6/ssl.py\", line 871, in read\n",
      "    return self._sslobj.read(len, buffer)\n",
      "  File \"/Users/ylchen/.pyenv/versions/3.6.4/lib/python3.6/ssl.py\", line 631, in read\n",
      "    v = self._sslobj.read(len, buffer)\n",
      "OSError: [Errno 50] Network is down\n",
      "\n",
      "During handling of the above exception, another exception occurred:\n",
      "\n",
      "Traceback (most recent call last):\n",
      "  File \"/Users/ylchen/.virtualenvs/kaggle-rsna/lib/python3.6/site-packages/requests/adapters.py\", line 445, in send\n",
      "    timeout=timeout\n",
      "  File \"/Users/ylchen/.virtualenvs/kaggle-rsna/lib/python3.6/site-packages/urllib3/connectionpool.py\", line 639, in urlopen\n",
      "    _stacktrace=sys.exc_info()[2])\n",
      "  File \"/Users/ylchen/.virtualenvs/kaggle-rsna/lib/python3.6/site-packages/urllib3/util/retry.py\", line 357, in increment\n",
      "    raise six.reraise(type(error), error, _stacktrace)\n",
      "  File \"/Users/ylchen/.virtualenvs/kaggle-rsna/lib/python3.6/site-packages/urllib3/packages/six.py\", line 685, in reraise\n",
      "    raise value.with_traceback(tb)\n",
      "  File \"/Users/ylchen/.virtualenvs/kaggle-rsna/lib/python3.6/site-packages/urllib3/connectionpool.py\", line 601, in urlopen\n",
      "    chunked=chunked)\n",
      "  File \"/Users/ylchen/.virtualenvs/kaggle-rsna/lib/python3.6/site-packages/urllib3/connectionpool.py\", line 387, in _make_request\n",
      "    six.raise_from(e, None)\n",
      "  File \"<string>\", line 2, in raise_from\n",
      "  File \"/Users/ylchen/.virtualenvs/kaggle-rsna/lib/python3.6/site-packages/urllib3/connectionpool.py\", line 383, in _make_request\n",
      "    httplib_response = conn.getresponse()\n",
      "  File \"/Users/ylchen/.pyenv/versions/3.6.4/lib/python3.6/http/client.py\", line 1331, in getresponse\n",
      "    response.begin()\n",
      "  File \"/Users/ylchen/.pyenv/versions/3.6.4/lib/python3.6/http/client.py\", line 297, in begin\n",
      "    version, status, reason = self._read_status()\n",
      "  File \"/Users/ylchen/.pyenv/versions/3.6.4/lib/python3.6/http/client.py\", line 258, in _read_status\n",
      "    line = str(self.fp.readline(_MAXLINE + 1), \"iso-8859-1\")\n",
      "  File \"/Users/ylchen/.pyenv/versions/3.6.4/lib/python3.6/socket.py\", line 586, in readinto\n",
      "    return self._sock.recv_into(b)\n",
      "  File \"/Users/ylchen/.pyenv/versions/3.6.4/lib/python3.6/ssl.py\", line 1009, in recv_into\n",
      "    return self.read(nbytes, buffer)\n",
      "  File \"/Users/ylchen/.pyenv/versions/3.6.4/lib/python3.6/ssl.py\", line 871, in read\n",
      "    return self._sslobj.read(len, buffer)\n",
      "  File \"/Users/ylchen/.pyenv/versions/3.6.4/lib/python3.6/ssl.py\", line 631, in read\n",
      "    v = self._sslobj.read(len, buffer)\n",
      "urllib3.exceptions.ProtocolError: ('Connection aborted.', OSError(50, 'Network is down'))\n",
      "\n",
      "During handling of the above exception, another exception occurred:\n",
      "\n",
      "Traceback (most recent call last):\n",
      "  File \"/Users/ylchen/.pyenv/versions/3.6.4/lib/python3.6/threading.py\", line 916, in _bootstrap_inner\n",
      "    self.run()\n",
      "  File \"/Users/ylchen/.pyenv/versions/3.6.4/lib/python3.6/threading.py\", line 1182, in run\n",
      "    self.function(*self.args, **self.kwargs)\n",
      "  File \"/Users/ylchen/.virtualenvs/kaggle-rsna/lib/python3.6/site-packages/mdai/client.py\", line 196, in _check_data_export_job_progress\n",
      "    r = self.session.post(endpoint, json=params, headers=self.headers)\n",
      "  File \"/Users/ylchen/.virtualenvs/kaggle-rsna/lib/python3.6/site-packages/requests/sessions.py\", line 559, in post\n",
      "    return self.request('POST', url, data=data, json=json, **kwargs)\n",
      "  File \"/Users/ylchen/.virtualenvs/kaggle-rsna/lib/python3.6/site-packages/requests/sessions.py\", line 512, in request\n",
      "    resp = self.send(prep, **send_kwargs)\n",
      "  File \"/Users/ylchen/.virtualenvs/kaggle-rsna/lib/python3.6/site-packages/requests/sessions.py\", line 622, in send\n",
      "    r = adapter.send(request, **kwargs)\n",
      "  File \"/Users/ylchen/.virtualenvs/kaggle-rsna/lib/python3.6/site-packages/requests/adapters.py\", line 495, in send\n",
      "    raise ConnectionError(err, request=request)\n",
      "requests.exceptions.ConnectionError: ('Connection aborted.', OSError(50, 'Network is down'))\n",
      "\n"
     ]
    }
   ],
   "source": [
    "p = mdai_client.project('aGq4k6NW', path='../data/raw/lesson2-data', force_download=True)"
   ]
  },
  {
   "cell_type": "code",
   "execution_count": 5,
   "metadata": {},
   "outputs": [],
   "source": [
    "# download MD.ai's dilated unet implementation \n",
    "UNET_URL = 'https://s3.amazonaws.com/md.ai-ml-lessons/unet.zip'\n",
    "UNET_ZIPPED = '../data/raw/unet.zip'\n",
    "\n",
    "if not os.path.exists(UNET_ZIPPED): \n",
    "    r = requests.get(UNET_URL, stream=True)\n",
    "    if r.status_code == requests.codes.ok:\n",
    "        with open(UNET_ZIPPED, \"wb\") as f:\n",
    "            shutil.copyfileobj(r.raw, f)\n",
    "    else:\n",
    "        r.raise_for_status()\n",
    "\n",
    "    with zipfile.ZipFile(UNET_ZIPPED) as zf:\n",
    "        zf.extractall()"
   ]
  },
  {
   "cell_type": "code",
   "execution_count": 6,
   "metadata": {},
   "outputs": [
    {
     "ename": "NameError",
     "evalue": "name 'p' is not defined",
     "output_type": "error",
     "traceback": [
      "\u001b[0;31m---------------------------------------------------------------------------\u001b[0m",
      "\u001b[0;31mNameError\u001b[0m                                 Traceback (most recent call last)",
      "\u001b[0;32m<ipython-input-6-e5e8544e2479>\u001b[0m in \u001b[0;36m<module>\u001b[0;34m()\u001b[0m\n\u001b[0;32m----> 1\u001b[0;31m \u001b[0mp\u001b[0m\u001b[0;34m.\u001b[0m\u001b[0mshow_label_groups\u001b[0m\u001b[0;34m(\u001b[0m\u001b[0;34m)\u001b[0m\u001b[0;34m\u001b[0m\u001b[0m\n\u001b[0m",
      "\u001b[0;31mNameError\u001b[0m: name 'p' is not defined"
     ]
    }
   ],
   "source": [
    "p.show_label_groups()"
   ]
  },
  {
   "cell_type": "code",
   "execution_count": null,
   "metadata": {},
   "outputs": [],
   "source": [
    "# this maps label ids to class ids as a dict obj\n",
    "labels_dict = {'L_A8Jm3d':1 # Lung   \n",
    "              }\n",
    "\n",
    "print(labels_dict)\n",
    "p.set_labels_dict(labels_dict)"
   ]
  },
  {
   "cell_type": "code",
   "execution_count": null,
   "metadata": {},
   "outputs": [],
   "source": [
    "p.show_datasets()"
   ]
  },
  {
   "cell_type": "code",
   "execution_count": null,
   "metadata": {},
   "outputs": [],
   "source": [
    "dataset = p.get_dataset_by_id('D_rQLwzo')\n",
    "dataset.prepare()"
   ]
  },
  {
   "cell_type": "code",
   "execution_count": null,
   "metadata": {},
   "outputs": [],
   "source": [
    "# visualize a few train images \n",
    "mdai.visualize.display_images(image_ids[:3], cols=2)"
   ]
  },
  {
   "cell_type": "code",
   "execution_count": null,
   "metadata": {},
   "outputs": [],
   "source": [
    "imgs_anns_dict = dataset.imgs_anns_dict"
   ]
  },
  {
   "cell_type": "code",
   "execution_count": null,
   "metadata": {},
   "outputs": [],
   "source": [
    "from unet import dataset\n",
    "from unet import dilated_unet\n",
    "from unet import train"
   ]
  },
  {
   "cell_type": "code",
   "execution_count": null,
   "metadata": {},
   "outputs": [],
   "source": [
    "images, masks = dataset.load_images(imgs_anns_dict)"
   ]
  },
  {
   "cell_type": "code",
   "execution_count": null,
   "metadata": {},
   "outputs": [],
   "source": [
    "img_index = random.choice(range(len(imgs_anns_dict)))\n",
    "\n",
    "print(img_index)\n",
    "img_fps = list(imgs_anns_dict.keys())\n",
    "img_fp = img_fps[img_index]\n",
    "img = mdai.visualize.load_dicom_image(img_fp)\n",
    "ann = imgs_anns_dict[img_fp]\n",
    "img_width = img.shape[1]\n",
    "img_height = img.shape[0]\n",
    "\n",
    "mask = np.zeros((img_height, img_width), dtype=np.uint8) \n",
    "for a in ann:     \n",
    "    vertices = np.array(a['data']['vertices'])\n",
    "    vertices = vertices.reshape((-1,2))                     \n",
    "    cv2.fillPoly(mask, np.int32([vertices]), (255,255,255))\n",
    "    \n",
    "plt.figure(figsize=(30, 20))\n",
    "plt.subplot(2,3,1)\n",
    "plt.imshow(img, cmap=plt.cm.bone)\n",
    "plt.axis('off')\n",
    "\n",
    "plt.subplot(2,3,2)\n",
    "plt.imshow(mask, cmap=plt.cm.bone)\n",
    "plt.axis('off')\n",
    "\n",
    "plt.subplot(2,3,3)              \n",
    "plt.imshow(cv2.bitwise_and(img, img, mask=mask.astype(np.uint8)), cmap=plt.cm.bone)\n",
    "plt.axis('off')\n",
    "\n",
    "plt.subplot(2,3,4)\n",
    "plt.imshow(images[img_index,:,:,0], cmap=plt.cm.bone)\n",
    "plt.axis('off')\n",
    "\n",
    "plt.subplot(2,3,5)\n",
    "plt.imshow(masks[img_index,:,:,0], cmap=plt.cm.bone)\n",
    "plt.axis('off')\n",
    "\n",
    "plt.subplot(2,3,6)\n",
    "plt.imshow(cv2.bitwise_and(images[img_index,:,:,0], images[img_index,:,:,0], \n",
    "                           mask=masks[img_index,:,:,0].astype(np.uint8)), cmap=plt.cm.bone)\n",
    "plt.axis('off')"
   ]
  },
  {
   "cell_type": "code",
   "execution_count": null,
   "metadata": {},
   "outputs": [],
   "source": [
    "import tensorflow as tf \n",
    "config = tf.ConfigProto()\n",
    "config.gpu_options.allow_growth = True"
   ]
  },
  {
   "cell_type": "code",
   "execution_count": null,
   "metadata": {},
   "outputs": [],
   "source": []
  }
 ],
 "metadata": {
  "kernelspec": {
   "display_name": "Python 3",
   "language": "python",
   "name": "python3"
  },
  "language_info": {
   "codemirror_mode": {
    "name": "ipython",
    "version": 3
   },
   "file_extension": ".py",
   "mimetype": "text/x-python",
   "name": "python",
   "nbconvert_exporter": "python",
   "pygments_lexer": "ipython3",
   "version": "3.6.4"
  }
 },
 "nbformat": 4,
 "nbformat_minor": 2
}
