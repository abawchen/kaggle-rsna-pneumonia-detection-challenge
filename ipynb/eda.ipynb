{
 "cells": [
  {
   "cell_type": "code",
   "execution_count": 10,
   "metadata": {},
   "outputs": [],
   "source": [
    "import matplotlib.pyplot as plt\n",
    "import seaborn as sns\n",
    "import pandas as pd\n",
    "import pydicom\n",
    "import numpy as np\n",
    "import warnings\n",
    "import multiprocessing\n",
    "import os\n",
    "\n",
    "warnings.filterwarnings('ignore')"
   ]
  },
  {
   "cell_type": "code",
   "execution_count": 4,
   "metadata": {},
   "outputs": [],
   "source": [
    "sns.set_style('darkgrid')\n",
    "sns.set_context('notebook', font_scale=1.2)"
   ]
  },
  {
   "cell_type": "code",
   "execution_count": 6,
   "metadata": {},
   "outputs": [],
   "source": [
    "RAWDATA_DIR = os.path.join('..', 'data', 'raw')"
   ]
  },
  {
   "cell_type": "code",
   "execution_count": 11,
   "metadata": {},
   "outputs": [],
   "source": [
    "tr = pd.read_csv(os.path.join(RAWDATA_DIR, 'stage_1_train_labels.csv'))\n",
    "tr['aspect_ratio'] = tr['width'] / tr['height']\n",
    "tr['area'] = tr['width'] * tr['height']\n",
    "patient_ids = list(tr.patientId.unique())"
   ]
  },
  {
   "cell_type": "code",
   "execution_count": 14,
   "metadata": {},
   "outputs": [],
   "source": [
    "def get_info(patientId, root_dir=os.path.join(RAWDATA_DIR, 'stage_1_train_images/')):\n",
    "    fn = os.path.join(root_dir, f'{patientId}.dcm')\n",
    "    dcm_data = pydicom.read_file(fn)\n",
    "    return {'age': dcm_data.PatientAge, \n",
    "            'gender': dcm_data.PatientSex, \n",
    "            'id': os.path.basename(fn).split('.')[0],\n",
    "            'pixel_spacing': float(dcm_data.PixelSpacing[0]),\n",
    "            'mean_black_pixels': np.mean(dcm_data.pixel_array == 0)}"
   ]
  },
  {
   "cell_type": "code",
   "execution_count": 16,
   "metadata": {},
   "outputs": [],
   "source": [
    "with multiprocessing.Pool(4) as pool:\n",
    "    result = pool.map(get_info, patient_ids)\n",
    "demo = pd.DataFrame(result)\n",
    "demo['gender'] = demo['gender'].astype('category')\n",
    "demo['age'] = demo['age'].astype(int)\n",
    "\n",
    "tr = tr.merge(demo, left_on='patientId', right_on='id', how='left').drop(columns='id')"
   ]
  },
  {
   "cell_type": "code",
   "execution_count": 17,
   "metadata": {},
   "outputs": [
    {
     "data": {
      "text/plain": [
       "Index(['patientId', 'x', 'y', 'width', 'height', 'Target', 'aspect_ratio',\n",
       "       'area', 'age_x', 'gender_x', 'mean_black_pixels_x', 'pixel_spacing_x',\n",
       "       'age_y', 'gender_y', 'mean_black_pixels_y', 'pixel_spacing_y'],\n",
       "      dtype='object')"
      ]
     },
     "execution_count": 17,
     "metadata": {},
     "output_type": "execute_result"
    }
   ],
   "source": [
    "tr.columnsmns"
   ]
  }
 ],
 "metadata": {
  "kernelspec": {
   "display_name": "Python 3",
   "language": "python",
   "name": "python3"
  },
  "language_info": {
   "codemirror_mode": {
    "name": "ipython",
    "version": 3
   },
   "file_extension": ".py",
   "mimetype": "text/x-python",
   "name": "python",
   "nbconvert_exporter": "python",
   "pygments_lexer": "ipython3",
   "version": "3.6.4"
  }
 },
 "nbformat": 4,
 "nbformat_minor": 2
}
